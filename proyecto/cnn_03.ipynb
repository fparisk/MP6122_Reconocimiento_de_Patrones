{
 "cells": [
  {
   "cell_type": "markdown",
   "metadata": {},
   "source": [
    "# TensorFlow Installation"
   ]
  },
  {
   "cell_type": "markdown",
   "metadata": {},
   "source": [
    "- pip install tensorflow"
   ]
  },
  {
   "cell_type": "markdown",
   "metadata": {},
   "source": [
    "# Keras instalation"
   ]
  },
  {
   "cell_type": "markdown",
   "metadata": {},
   "source": [
    "- pip install numpy scipy\n",
    "- pip install scikit-learn\n",
    "- pip install pillow\n",
    "- pip install h5py\n",
    "- pip install keras"
   ]
  },
  {
   "cell_type": "markdown",
   "metadata": {},
   "source": [
    "Required libraries"
   ]
  },
  {
   "cell_type": "code",
   "execution_count": 18,
   "metadata": {},
   "outputs": [],
   "source": [
    "import keras\n",
    "from keras import layers\n",
    "from keras import models\n",
    "from keras import optimizers\n",
    "from keras import backend as k\n",
    "from keras.utils import np_utils\n",
    "from keras.preprocessing.image import ImageDataGenerator\n",
    "from keras.callbacks import EarlyStopping\n",
    "\n",
    "from IPython.display import Image\n",
    "\n",
    "import pandas as pd\n",
    "import matplotlib\n",
    "import matplotlib.pyplot as plt\n",
    "import matplotlib.image as mpimg\n",
    "import numpy as np\n",
    "import random\n",
    "import sys"
   ]
  },
  {
   "cell_type": "markdown",
   "metadata": {},
   "source": [
    "Important links:\n",
    "- https://arxiv.org/pdf/1710.07557.pdf\n",
    "- https://artificialintelligence.fun/convolutional-neural-networks-genetic-algorithms-and-emotion-recognition/\n",
    "- https://www.kaggle.com/ashishpatel26/tutorial-facial-expression-classification-keras\n",
    "- "
   ]
  },
  {
   "cell_type": "markdown",
   "metadata": {},
   "source": [
    "Load data and reshape it"
   ]
  },
  {
   "cell_type": "markdown",
   "metadata": {},
   "source": [
    "Dataset available at: https://www.kaggle.com/ashishpatel26/fer2018#fer20131.csv"
   ]
  },
  {
   "cell_type": "code",
   "execution_count": 20,
   "metadata": {},
   "outputs": [
    {
     "name": "stdout",
     "output_type": "stream",
     "text": [
      "Dataset shape: (35887, 3)\n"
     ]
    },
    {
     "data": {
      "text/html": [
       "<div>\n",
       "<style scoped>\n",
       "    .dataframe tbody tr th:only-of-type {\n",
       "        vertical-align: middle;\n",
       "    }\n",
       "\n",
       "    .dataframe tbody tr th {\n",
       "        vertical-align: top;\n",
       "    }\n",
       "\n",
       "    .dataframe thead th {\n",
       "        text-align: right;\n",
       "    }\n",
       "</style>\n",
       "<table border=\"1\" class=\"dataframe\">\n",
       "  <thead>\n",
       "    <tr style=\"text-align: right;\">\n",
       "      <th></th>\n",
       "      <th>emotion</th>\n",
       "      <th>pixels</th>\n",
       "      <th>Usage</th>\n",
       "    </tr>\n",
       "  </thead>\n",
       "  <tbody>\n",
       "    <tr>\n",
       "      <th>0</th>\n",
       "      <td>Angry</td>\n",
       "      <td>70 80 82 72 58 58 60 63 54 58 60 48 89 115 121...</td>\n",
       "      <td>Training</td>\n",
       "    </tr>\n",
       "    <tr>\n",
       "      <th>1</th>\n",
       "      <td>Angry</td>\n",
       "      <td>151 150 147 155 148 133 111 140 170 174 182 15...</td>\n",
       "      <td>Training</td>\n",
       "    </tr>\n",
       "    <tr>\n",
       "      <th>2</th>\n",
       "      <td>Fear</td>\n",
       "      <td>231 212 156 164 174 138 161 173 182 200 106 38...</td>\n",
       "      <td>Training</td>\n",
       "    </tr>\n",
       "    <tr>\n",
       "      <th>3</th>\n",
       "      <td>Sad</td>\n",
       "      <td>24 32 36 30 32 23 19 20 30 41 21 22 32 34 21 1...</td>\n",
       "      <td>Training</td>\n",
       "    </tr>\n",
       "    <tr>\n",
       "      <th>4</th>\n",
       "      <td>Neutral</td>\n",
       "      <td>4 0 0 0 0 0 0 0 0 0 0 0 3 15 23 28 48 50 58 84...</td>\n",
       "      <td>Training</td>\n",
       "    </tr>\n",
       "  </tbody>\n",
       "</table>\n",
       "</div>"
      ],
      "text/plain": [
       "   emotion                                             pixels     Usage\n",
       "0    Angry  70 80 82 72 58 58 60 63 54 58 60 48 89 115 121...  Training\n",
       "1    Angry  151 150 147 155 148 133 111 140 170 174 182 15...  Training\n",
       "2     Fear  231 212 156 164 174 138 161 173 182 200 106 38...  Training\n",
       "3      Sad  24 32 36 30 32 23 19 20 30 41 21 22 32 34 21 1...  Training\n",
       "4  Neutral  4 0 0 0 0 0 0 0 0 0 0 0 3 15 23 28 48 50 58 84...  Training"
      ]
     },
     "execution_count": 20,
     "metadata": {},
     "output_type": "execute_result"
    }
   ],
   "source": [
    "# dataset loading\n",
    "ds = pd.read_csv(\"datasets/fer20131.csv\")\n",
    "print(\"Dataset shape: \" + str(ds.shape))\n",
    "ds.head(5)"
   ]
  },
  {
   "cell_type": "markdown",
   "metadata": {},
   "source": [
    "### Analize classes to classify"
   ]
  },
  {
   "cell_type": "code",
   "execution_count": 21,
   "metadata": {},
   "outputs": [
    {
     "name": "stdout",
     "output_type": "stream",
     "text": [
      "\n",
      "-> Classes: ['Angry' 'Fear' 'Sad' 'Neutral' 'Happy' 'Surprise']\n"
     ]
    },
    {
     "data": {
      "image/png": "[encoded data removed]",
      "text/plain": [
       "<Figure size 432x288 with 1 Axes>"
      ]
     },
     "metadata": {
      "needs_background": "light"
     },
     "output_type": "display_data"
    }
   ],
   "source": [
    "# show classes\n",
    "ds['emotion'].value_counts().plot.bar()\n",
    "\n",
    "\n",
    "# replace literal labels for numeric\n",
    "classes = {'Angry': 0, 'Fear': 1, 'Happy': 2, 'Sad': 3, 'Surprise': 4, 'Neutral': 5}\n",
    "ds_ = ds.applymap(lambda s: classes.get(s) if s in classes else s)\n",
    "\n",
    "print (\"\\n\" + \"-> Classes: \" + str(ds['emotion'].unique()))"
   ]
  },
  {
   "cell_type": "code",
   "execution_count": 22,
   "metadata": {},
   "outputs": [
    {
     "data": {
      "text/html": [
       "<div>\n",
       "<style scoped>\n",
       "    .dataframe tbody tr th:only-of-type {\n",
       "        vertical-align: middle;\n",
       "    }\n",
       "\n",
       "    .dataframe tbody tr th {\n",
       "        vertical-align: top;\n",
       "    }\n",
       "\n",
       "    .dataframe thead th {\n",
       "        text-align: right;\n",
       "    }\n",
       "</style>\n",
       "<table border=\"1\" class=\"dataframe\">\n",
       "  <thead>\n",
       "    <tr style=\"text-align: right;\">\n",
       "      <th></th>\n",
       "      <th>emotion</th>\n",
       "      <th>pixels</th>\n",
       "      <th>Usage</th>\n",
       "    </tr>\n",
       "  </thead>\n",
       "  <tbody>\n",
       "    <tr>\n",
       "      <th>0</th>\n",
       "      <td>0</td>\n",
       "      <td>70 80 82 72 58 58 60 63 54 58 60 48 89 115 121...</td>\n",
       "      <td>Training</td>\n",
       "    </tr>\n",
       "    <tr>\n",
       "      <th>1</th>\n",
       "      <td>0</td>\n",
       "      <td>151 150 147 155 148 133 111 140 170 174 182 15...</td>\n",
       "      <td>Training</td>\n",
       "    </tr>\n",
       "    <tr>\n",
       "      <th>2</th>\n",
       "      <td>1</td>\n",
       "      <td>231 212 156 164 174 138 161 173 182 200 106 38...</td>\n",
       "      <td>Training</td>\n",
       "    </tr>\n",
       "    <tr>\n",
       "      <th>3</th>\n",
       "      <td>3</td>\n",
       "      <td>24 32 36 30 32 23 19 20 30 41 21 22 32 34 21 1...</td>\n",
       "      <td>Training</td>\n",
       "    </tr>\n",
       "    <tr>\n",
       "      <th>4</th>\n",
       "      <td>5</td>\n",
       "      <td>4 0 0 0 0 0 0 0 0 0 0 0 3 15 23 28 48 50 58 84...</td>\n",
       "      <td>Training</td>\n",
       "    </tr>\n",
       "  </tbody>\n",
       "</table>\n",
       "</div>"
      ],
      "text/plain": [
       "   emotion                                             pixels     Usage\n",
       "0        0  70 80 82 72 58 58 60 63 54 58 60 48 89 115 121...  Training\n",
       "1        0  151 150 147 155 148 133 111 140 170 174 182 15...  Training\n",
       "2        1  231 212 156 164 174 138 161 173 182 200 106 38...  Training\n",
       "3        3  24 32 36 30 32 23 19 20 30 41 21 22 32 34 21 1...  Training\n",
       "4        5  4 0 0 0 0 0 0 0 0 0 0 0 3 15 23 28 48 50 58 84...  Training"
      ]
     },
     "execution_count": 22,
     "metadata": {},
     "output_type": "execute_result"
    }
   ],
   "source": [
    "ds_.head(5)"
   ]
  },
  {
   "cell_type": "markdown",
   "metadata": {},
   "source": [
    "### Training and Test datasets"
   ]
  },
  {
   "cell_type": "code",
   "execution_count": 92,
   "metadata": {},
   "outputs": [],
   "source": [
    "# Returns input (X) and respective labels (Y) from dataset\n",
    "def get_in_out_data(dataset):\n",
    "    x = list(dataset[\"pixels\"])\n",
    "    X = []\n",
    "    \n",
    "    for i in range(len(x)):\n",
    "        each_pixel = [int(num) for num in x[i].split()]\n",
    "        X.append(each_pixel)\n",
    "        \n",
    "    X = np.array(X)\n",
    "    X = X.reshape(X.shape[0], 48, 48,1)  # reshape to a 48x48 grayscale (1 pixel) format\n",
    "    X = X.astype(\"float32\")\n",
    "    X /= 255 # normalize\n",
    "    \n",
    "    Y = dataset.emotion.values\n",
    "    Y = np_utils.to_categorical(Y)\n",
    "    \n",
    "    return X,Y"
   ]
  },
  {
   "cell_type": "code",
   "execution_count": 24,
   "metadata": {},
   "outputs": [
    {
     "name": "stdout",
     "output_type": "stream",
     "text": [
      "x_train: (28709, 48, 48, 1)\n",
      "y_train: (28709, 6)\n",
      "x_test:  (3589, 48, 48, 1)\n",
      "y_test:  (3589, 6)\n"
     ]
    }
   ],
   "source": [
    "# training set\n",
    "train_ds = ds_[ds_.Usage == 'Training']\n",
    "train_ds = train_ds.reset_index(drop=True)\n",
    "x_train, y_train = get_in_out_data(train_ds)\n",
    "\n",
    "# validation set\n",
    "test_ds = ds_[ds_.Usage == 'Test']\n",
    "test_ds = test_ds.reset_index(drop=True)\n",
    "x_test, y_test = get_in_out_data(test_ds)\n",
    "\n",
    "print(\"x_train: \" + str(x_train.shape))\n",
    "print(\"y_train: \" + str(y_train.shape))\n",
    "print(\"x_test:  \" + str(x_test.shape))\n",
    "print(\"y_test:  \" + str(y_test.shape))"
   ]
  },
  {
   "cell_type": "markdown",
   "metadata": {},
   "source": [
    "### Visualize some training images-labels"
   ]
  },
  {
   "cell_type": "code",
   "execution_count": null,
   "metadata": {},
   "outputs": [],
   "source": [
    "emotion_classes = ['Angry', 'Fear', 'Happy','Sad', 'Surprise', 'Neutral']\n",
    "\n",
    "fig = plt.figure(figsize=(20,15))\n",
    "for i in range(0, 100):\n",
    "    input_img = x_train[i:(i+1),:,:,:]\n",
    "    ax = fig.add_subplot(20,10,i+1)\n",
    "    ax.imshow(input_img[0,:,:,0], cmap=plt.cm.gray)\n",
    "    plt.title(\"Index: {0} - Emotion: {1}\".format(str(train_ds.index.values[i]),emotion_classes[train_ds.emotion.values[i]]))\n",
    "    plt.xticks(np.array([]))\n",
    "    plt.yticks(np.array([]))\n",
    "    plt.tight_layout()\n",
    "plt.show()"
   ]
  },
  {
   "cell_type": "markdown",
   "metadata": {},
   "source": [
    "## CNN Model"
   ]
  },
  {
   "cell_type": "markdown",
   "metadata": {},
   "source": [
    "### Genetic Algorithm topology"
   ]
  },
  {
   "cell_type": "code",
   "execution_count": 14,
   "metadata": {
    "scrolled": true
   },
   "outputs": [
    {
     "data": {
      "text/plain": [
       "<matplotlib.image.AxesImage at 0x7fbb3ef285c0>"
      ]
     },
     "execution_count": 14,
     "metadata": {},
     "output_type": "execute_result"
    },
    {
     "data": {
      "image/png": "[encoded data removed]",
      "text/plain": [
       "<Figure size 432x288 with 1 Axes>"
      ]
     },
     "metadata": {
      "needs_background": "light"
     },
     "output_type": "display_data"
    }
   ],
   "source": [
    "image = mpimg.imread('Figures/ga.png')\n",
    "plt.imshow(image)"
   ]
  },
  {
   "cell_type": "code",
   "execution_count": 19,
   "metadata": {},
   "outputs": [
    {
     "name": "stderr",
     "output_type": "stream",
     "text": [
      "WARNING: Logging before flag parsing goes to stderr.\n",
      "W0823 09:12:13.113317 139718417782592 deprecation_wrapper.py:119] From /home/parisfe/miniconda3/envs/py3/lib/python3.7/site-packages/keras/backend/tensorflow_backend.py:74: The name tf.get_default_graph is deprecated. Please use tf.compat.v1.get_default_graph instead.\n",
      "\n",
      "W0823 09:12:13.130955 139718417782592 deprecation_wrapper.py:119] From /home/parisfe/miniconda3/envs/py3/lib/python3.7/site-packages/keras/backend/tensorflow_backend.py:517: The name tf.placeholder is deprecated. Please use tf.compat.v1.placeholder instead.\n",
      "\n",
      "W0823 09:12:13.133231 139718417782592 deprecation_wrapper.py:119] From /home/parisfe/miniconda3/envs/py3/lib/python3.7/site-packages/keras/backend/tensorflow_backend.py:4138: The name tf.random_uniform is deprecated. Please use tf.random.uniform instead.\n",
      "\n",
      "W0823 09:12:13.149762 139718417782592 deprecation_wrapper.py:119] From /home/parisfe/miniconda3/envs/py3/lib/python3.7/site-packages/keras/backend/tensorflow_backend.py:133: The name tf.placeholder_with_default is deprecated. Please use tf.compat.v1.placeholder_with_default instead.\n",
      "\n",
      "W0823 09:12:13.156700 139718417782592 deprecation.py:506] From /home/parisfe/miniconda3/envs/py3/lib/python3.7/site-packages/keras/backend/tensorflow_backend.py:3445: calling dropout (from tensorflow.python.ops.nn_ops) with keep_prob is deprecated and will be removed in a future version.\n",
      "Instructions for updating:\n",
      "Please use `rate` instead of `keep_prob`. Rate should be set to `rate = 1 - keep_prob`.\n",
      "W0823 09:12:13.177510 139718417782592 deprecation_wrapper.py:119] From /home/parisfe/miniconda3/envs/py3/lib/python3.7/site-packages/keras/backend/tensorflow_backend.py:3976: The name tf.nn.max_pool is deprecated. Please use tf.nn.max_pool2d instead.\n",
      "\n",
      "W0823 09:12:13.224069 139718417782592 deprecation_wrapper.py:119] From /home/parisfe/miniconda3/envs/py3/lib/python3.7/site-packages/keras/backend/tensorflow_backend.py:174: The name tf.get_default_session is deprecated. Please use tf.compat.v1.get_default_session instead.\n",
      "\n",
      "W0823 09:12:13.301723 139718417782592 deprecation_wrapper.py:119] From /home/parisfe/miniconda3/envs/py3/lib/python3.7/site-packages/keras/backend/tensorflow_backend.py:1834: The name tf.nn.fused_batch_norm is deprecated. Please use tf.compat.v1.nn.fused_batch_norm instead.\n",
      "\n",
      "W0823 09:12:13.560595 139718417782592 deprecation_wrapper.py:119] From /home/parisfe/miniconda3/envs/py3/lib/python3.7/site-packages/keras/optimizers.py:790: The name tf.train.Optimizer is deprecated. Please use tf.compat.v1.train.Optimizer instead.\n",
      "\n"
     ]
    },
    {
     "name": "stdout",
     "output_type": "stream",
     "text": [
      "_________________________________________________________________\n",
      "Layer (type)                 Output Shape              Param #   \n",
      "=================================================================\n",
      "conv2d_1 (Conv2D)            (None, 48, 48, 128)       1280      \n",
      "_________________________________________________________________\n",
      "dropout_1 (Dropout)          (None, 48, 48, 128)       0         \n",
      "_________________________________________________________________\n",
      "max_pooling2d_1 (MaxPooling2 (None, 24, 24, 128)       0         \n",
      "_________________________________________________________________\n",
      "conv2d_2 (Conv2D)            (None, 24, 24, 256)       295168    \n",
      "_________________________________________________________________\n",
      "batch_normalization_1 (Batch (None, 24, 24, 256)       1024      \n",
      "_________________________________________________________________\n",
      "dropout_2 (Dropout)          (None, 24, 24, 256)       0         \n",
      "_________________________________________________________________\n",
      "max_pooling2d_2 (MaxPooling2 (None, 12, 12, 256)       0         \n",
      "_________________________________________________________________\n",
      "conv2d_3 (Conv2D)            (None, 12, 12, 128)       295040    \n",
      "_________________________________________________________________\n",
      "batch_normalization_2 (Batch (None, 12, 12, 128)       512       \n",
      "_________________________________________________________________\n",
      "dropout_3 (Dropout)          (None, 12, 12, 128)       0         \n",
      "_________________________________________________________________\n",
      "conv2d_4 (Conv2D)            (None, 12, 12, 128)       147584    \n",
      "_________________________________________________________________\n",
      "dropout_4 (Dropout)          (None, 12, 12, 128)       0         \n",
      "_________________________________________________________________\n",
      "max_pooling2d_3 (MaxPooling2 (None, 6, 6, 128)         0         \n",
      "_________________________________________________________________\n",
      "flatten_1 (Flatten)          (None, 4608)              0         \n",
      "_________________________________________________________________\n",
      "dense_1 (Dense)              (None, 64)                294976    \n",
      "_________________________________________________________________\n",
      "dropout_5 (Dropout)          (None, 64)                0         \n",
      "_________________________________________________________________\n",
      "dense_2 (Dense)              (None, 6)                 390       \n",
      "=================================================================\n",
      "Total params: 1,035,974\n",
      "Trainable params: 1,035,206\n",
      "Non-trainable params: 768\n",
      "_________________________________________________________________\n"
     ]
    }
   ],
   "source": [
    "# GA (Genetic algorithm topology)\n",
    "genAlgrthm_model = models.Sequential()\n",
    "genAlgrthm_model.add(layers.Conv2D(128, (3, 3), padding='same', activation='relu', input_shape=(48, 48, 1)))\n",
    "genAlgrthm_model.add(layers.Dropout(0.10))\n",
    "genAlgrthm_model.add(layers.MaxPooling2D(pool_size=(2, 2)))\n",
    "\n",
    "genAlgrthm_model.add(layers.Conv2D(256, (3, 3), padding='same', activation='relu'))\n",
    "genAlgrthm_model.add(layers.BatchNormalization())\n",
    "genAlgrthm_model.add(layers.Dropout(0.10))\n",
    "genAlgrthm_model.add(layers.MaxPooling2D(pool_size=(2, 2)))\n",
    "\n",
    "genAlgrthm_model.add(layers.Conv2D(128, (3, 3), padding='same', activation='relu'))\n",
    "genAlgrthm_model.add(layers.BatchNormalization())\n",
    "genAlgrthm_model.add(layers.Dropout(0.15))\n",
    "genAlgrthm_model.add(layers.Conv2D(128, (3, 3), padding='same', activation='sigmoid'))\n",
    "genAlgrthm_model.add(layers.Dropout(0.15))\n",
    "genAlgrthm_model.add(layers.MaxPooling2D(pool_size=(2, 2)))\n",
    "\n",
    "\n",
    "genAlgrthm_model.add(layers.Flatten())  \n",
    "genAlgrthm_model.add(layers.Dense(64, activation='relu'))\n",
    "genAlgrthm_model.add(layers.Dropout(0.05))\n",
    "genAlgrthm_model.add(layers.Dense(6, activation='softmax'))\n",
    "\n",
    "genAlgrthm_model.compile(loss='categorical_crossentropy', optimizer='adam', metrics=['accuracy'])\n",
    "\n",
    "genAlgrthm_model.summary()"
   ]
  },
  {
   "cell_type": "markdown",
   "metadata": {},
   "source": [
    ". Fit model"
   ]
  },
  {
   "cell_type": "code",
   "execution_count": 95,
   "metadata": {},
   "outputs": [],
   "source": [
    "# train generators\n",
    "train_datagen = ImageDataGenerator(\n",
    "    featurewise_center=True,\n",
    "    featurewise_std_normalization=True,\n",
    "    rotation_range=20,\n",
    "    width_shift_range=0.2,\n",
    "    height_shift_range=0.2,\n",
    "    horizontal_flip=True)\n",
    "\n",
    "train_datagen.fit(x_train)\n",
    "train_gen = train_datagen.flow(x_train, y_train, batch_size=128)\n",
    "\n",
    "# test generators\n",
    "test_datagen = ImageDataGenerator(rescale=1./255)\n",
    "test_datagen.fit(x_test)\n",
    "test_gen = test_datagen.flow(x_test, y_test, batch_size=128)\n",
    "\n",
    "# callback definitions\n",
    "earlystop = EarlyStopping(patience=10)\n",
    "callbacks = [earlystop]\n",
    "\n",
    "total_train = train_ds.shape[0]\n",
    "total_validate = test_ds.shape[0]"
   ]
  },
  {
   "cell_type": "code",
   "execution_count": 21,
   "metadata": {},
   "outputs": [
    {
     "name": "stderr",
     "output_type": "stream",
     "text": [
      "/home/parisfe/miniconda3/envs/py3/lib/python3.7/site-packages/ipykernel_launcher.py:9: UserWarning: The `nb_epoch` argument in `fit` has been renamed `epochs`.\n",
      "  if __name__ == '__main__':\n",
      "W0823 09:12:23.771495 139718417782592 deprecation.py:323] From /home/parisfe/miniconda3/envs/py3/lib/python3.7/site-packages/tensorflow/python/ops/math_grad.py:1250: add_dispatch_support.<locals>.wrapper (from tensorflow.python.ops.array_ops) is deprecated and will be removed in a future version.\n",
      "Instructions for updating:\n",
      "Use tf.where in 2.0, which has the same broadcast rule as np.where\n"
     ]
    },
    {
     "name": "stdout",
     "output_type": "stream",
     "text": [
      "Train on 28709 samples, validate on 3589 samples\n",
      "Epoch 1/32\n",
      "28709/28709 [==============================] - 668s 23ms/step - loss: 1.7856 - acc: 0.2645 - val_loss: 1.8041 - val_acc: 0.2627\n",
      "Epoch 2/32\n",
      "28709/28709 [==============================] - 660s 23ms/step - loss: 1.5270 - acc: 0.3648 - val_loss: 1.7704 - val_acc: 0.2561\n",
      "Epoch 3/32\n",
      "28709/28709 [==============================] - 647s 23ms/step - loss: 1.3946 - acc: 0.4084 - val_loss: 1.5984 - val_acc: 0.3636\n",
      "Epoch 4/32\n",
      "28709/28709 [==============================] - 647s 23ms/step - loss: 1.3423 - acc: 0.4220 - val_loss: 1.5138 - val_acc: 0.3812\n",
      "Epoch 5/32\n",
      "28709/28709 [==============================] - 646s 23ms/step - loss: 1.2960 - acc: 0.4378 - val_loss: 1.4560 - val_acc: 0.3853\n",
      "Epoch 6/32\n",
      "28709/28709 [==============================] - 648s 23ms/step - loss: 1.2611 - acc: 0.4570 - val_loss: 1.3313 - val_acc: 0.4528\n",
      "Epoch 7/32\n",
      "28709/28709 [==============================] - 649s 23ms/step - loss: 1.2310 - acc: 0.4690 - val_loss: 1.2812 - val_acc: 0.4698\n",
      "Epoch 8/32\n",
      "28709/28709 [==============================] - 659s 23ms/step - loss: 1.2028 - acc: 0.4869 - val_loss: 1.3330 - val_acc: 0.4472\n",
      "Epoch 9/32\n",
      "28709/28709 [==============================] - 669s 23ms/step - loss: 1.1759 - acc: 0.5010 - val_loss: 1.2491 - val_acc: 0.4812\n",
      "Epoch 10/32\n",
      "28709/28709 [==============================] - 645s 22ms/step - loss: 1.1342 - acc: 0.5261 - val_loss: 1.4201 - val_acc: 0.4216\n",
      "Epoch 11/32\n",
      "28709/28709 [==============================] - 644s 22ms/step - loss: 1.1024 - acc: 0.5419 - val_loss: 1.2747 - val_acc: 0.4993\n",
      "Epoch 12/32\n",
      "28709/28709 [==============================] - 647s 23ms/step - loss: 1.0663 - acc: 0.5620 - val_loss: 1.3869 - val_acc: 0.4773\n",
      "Epoch 13/32\n",
      "28709/28709 [==============================] - 645s 22ms/step - loss: 1.0295 - acc: 0.5817 - val_loss: 1.2019 - val_acc: 0.5263\n",
      "Epoch 14/32\n",
      "28709/28709 [==============================] - 665s 23ms/step - loss: 0.9940 - acc: 0.5970 - val_loss: 1.2187 - val_acc: 0.5263\n",
      "Epoch 15/32\n",
      "28709/28709 [==============================] - 655s 23ms/step - loss: 0.9618 - acc: 0.6141 - val_loss: 1.2302 - val_acc: 0.5386\n",
      "Epoch 16/32\n",
      "28709/28709 [==============================] - 651s 23ms/step - loss: 0.9410 - acc: 0.6253 - val_loss: 1.2008 - val_acc: 0.5327\n",
      "Epoch 17/32\n",
      "28709/28709 [==============================] - 650s 23ms/step - loss: 0.9159 - acc: 0.6340 - val_loss: 1.2651 - val_acc: 0.5255\n",
      "Epoch 18/32\n",
      "28709/28709 [==============================] - 653s 23ms/step - loss: 0.8813 - acc: 0.6516 - val_loss: 1.2783 - val_acc: 0.5283\n",
      "Epoch 19/32\n",
      "28709/28709 [==============================] - 650s 23ms/step - loss: 0.8628 - acc: 0.6593 - val_loss: 1.2372 - val_acc: 0.5464\n",
      "Epoch 20/32\n",
      "28709/28709 [==============================] - 653s 23ms/step - loss: 0.8508 - acc: 0.6656 - val_loss: 1.2689 - val_acc: 0.5380\n",
      "Epoch 21/32\n",
      "28709/28709 [==============================] - 659s 23ms/step - loss: 0.8153 - acc: 0.6798 - val_loss: 1.2172 - val_acc: 0.5475\n",
      "Epoch 22/32\n",
      "28709/28709 [==============================] - 651s 23ms/step - loss: 0.8080 - acc: 0.6849 - val_loss: 1.3083 - val_acc: 0.5302\n",
      "Epoch 23/32\n",
      "28709/28709 [==============================] - 660s 23ms/step - loss: 0.7852 - acc: 0.6946 - val_loss: 1.3811 - val_acc: 0.5194\n",
      "Epoch 24/32\n",
      "28709/28709 [==============================] - 652s 23ms/step - loss: 0.7694 - acc: 0.7021 - val_loss: 1.3003 - val_acc: 0.5411\n",
      "Epoch 25/32\n",
      "28709/28709 [==============================] - 651s 23ms/step - loss: 0.7616 - acc: 0.7056 - val_loss: 1.3378 - val_acc: 0.5589\n",
      "Epoch 26/32\n",
      "28709/28709 [==============================] - 651s 23ms/step - loss: 0.7398 - acc: 0.7148 - val_loss: 1.3972 - val_acc: 0.5500\n"
     ]
    }
   ],
   "source": [
    "nb_epoch = 32\n",
    "batch_size = 128\n",
    "\n",
    "ga_model = genAlgrthm_model.fit(x_train,\n",
    "                                y_train, \n",
    "                                callbacks=callbacks, \n",
    "                                nb_epoch=nb_epoch, \n",
    "                                batch_size=batch_size,\n",
    "                                validation_data=(x_test, y_test), shuffle=True, verbose=1)\n",
    "\n",
    "# save model\n",
    "genAlgrthm_model.save('ga_model_v02.h5')"
   ]
  },
  {
   "cell_type": "code",
   "execution_count": 27,
   "metadata": {},
   "outputs": [
    {
     "data": {
      "image/png": "[encoded data removed]",
      "text/plain": [
       "<Figure size 432x288 with 1 Axes>"
      ]
     },
     "metadata": {
      "needs_background": "light"
     },
     "output_type": "display_data"
    },
    {
     "data": {
      "image/png": "[encoded data removed]",
      "text/plain": [
       "<Figure size 432x288 with 1 Axes>"
      ]
     },
     "metadata": {
      "needs_background": "light"
     },
     "output_type": "display_data"
    }
   ],
   "source": [
    "plotModelFitResults(ga_model)"
   ]
  },
  {
   "cell_type": "code",
   "execution_count": 28,
   "metadata": {},
   "outputs": [
    {
     "name": "stdout",
     "output_type": "stream",
     "text": [
      "model acc: 55.00%\n"
     ]
    }
   ],
   "source": [
    "# evaluate model\n",
    "evaluateModel(genAlgrthm_model)"
   ]
  },
  {
   "cell_type": "markdown",
   "metadata": {},
   "source": [
    "Since there are tons of similitudes between different facial emotions, the data set is going to be modified to have less classes "
   ]
  },
  {
   "cell_type": "code",
   "execution_count": 84,
   "metadata": {},
   "outputs": [
    {
     "data": {
      "image/png": "[encoded data removed]",
      "text/plain": [
       "<Figure size 360x360 with 3 Axes>"
      ]
     },
     "metadata": {
      "needs_background": "light"
     },
     "output_type": "display_data"
    }
   ],
   "source": [
    "emotion_classes = ['Angry', 'Fear', 'Happy','Sad', 'Surprise', 'Neutral']\n",
    "\n",
    "fig = plt.figure(figsize=(5,5))\n",
    "input_img = x_train[0:7,:,:,:]\n",
    "ax = fig.add_subplot(1,3,1)\n",
    "ax.imshow(input_img[0,:,:,0], cmap=plt.cm.gray)\n",
    "plt.title(\"Emotion: {0}\".format(emotion_classes[train_ds.emotion.values[0]]))\n",
    "\n",
    "input_img = x_train[5:7,:,:,:]\n",
    "ax = fig.add_subplot(1,3,2)\n",
    "ax.imshow(input_img[0,:,:,0], cmap=plt.cm.gray)\n",
    "plt.title(\"Emotion: {0}\".format(emotion_classes[train_ds.emotion.values[5]]))\n",
    "\n",
    "input_img = x_train[6:7,:,:,:]\n",
    "ax = fig.add_subplot(1,3,3)\n",
    "ax.imshow(input_img[0,:,:,0], cmap=plt.cm.gray)\n",
    "plt.title(\"Emotion: {0}\".format(emotion_classes[train_ds.emotion.values[10]]))\n",
    "\n",
    "plt.show()"
   ]
  },
  {
   "cell_type": "markdown",
   "metadata": {},
   "source": [
    "Following modifications were applied:\n",
    "- Replace 'Angry' and 'Fear' to 'Sad'\n",
    "- Remove intances related to 'Surprise' classes since it introduces 'noise' to the model"
   ]
  },
  {
   "cell_type": "code",
   "execution_count": 89,
   "metadata": {},
   "outputs": [
    {
     "name": "stdout",
     "output_type": "stream",
     "text": [
      "Dataset shape: (31885, 3)\n"
     ]
    },
    {
     "data": {
      "text/html": [
       "<div>\n",
       "<style scoped>\n",
       "    .dataframe tbody tr th:only-of-type {\n",
       "        vertical-align: middle;\n",
       "    }\n",
       "\n",
       "    .dataframe tbody tr th {\n",
       "        vertical-align: top;\n",
       "    }\n",
       "\n",
       "    .dataframe thead th {\n",
       "        text-align: right;\n",
       "    }\n",
       "</style>\n",
       "<table border=\"1\" class=\"dataframe\">\n",
       "  <thead>\n",
       "    <tr style=\"text-align: right;\">\n",
       "      <th></th>\n",
       "      <th>emotion</th>\n",
       "      <th>pixels</th>\n",
       "      <th>Usage</th>\n",
       "    </tr>\n",
       "  </thead>\n",
       "  <tbody>\n",
       "    <tr>\n",
       "      <th>0</th>\n",
       "      <td>Sad</td>\n",
       "      <td>70 80 82 72 58 58 60 63 54 58 60 48 89 115 121...</td>\n",
       "      <td>Training</td>\n",
       "    </tr>\n",
       "    <tr>\n",
       "      <th>1</th>\n",
       "      <td>Sad</td>\n",
       "      <td>151 150 147 155 148 133 111 140 170 174 182 15...</td>\n",
       "      <td>Training</td>\n",
       "    </tr>\n",
       "    <tr>\n",
       "      <th>2</th>\n",
       "      <td>Sad</td>\n",
       "      <td>231 212 156 164 174 138 161 173 182 200 106 38...</td>\n",
       "      <td>Training</td>\n",
       "    </tr>\n",
       "    <tr>\n",
       "      <th>3</th>\n",
       "      <td>Sad</td>\n",
       "      <td>24 32 36 30 32 23 19 20 30 41 21 22 32 34 21 1...</td>\n",
       "      <td>Training</td>\n",
       "    </tr>\n",
       "    <tr>\n",
       "      <th>4</th>\n",
       "      <td>Neutral</td>\n",
       "      <td>4 0 0 0 0 0 0 0 0 0 0 0 3 15 23 28 48 50 58 84...</td>\n",
       "      <td>Training</td>\n",
       "    </tr>\n",
       "  </tbody>\n",
       "</table>\n",
       "</div>"
      ],
      "text/plain": [
       "   emotion                                             pixels     Usage\n",
       "0      Sad  70 80 82 72 58 58 60 63 54 58 60 48 89 115 121...  Training\n",
       "1      Sad  151 150 147 155 148 133 111 140 170 174 182 15...  Training\n",
       "2      Sad  231 212 156 164 174 138 161 173 182 200 106 38...  Training\n",
       "3      Sad  24 32 36 30 32 23 19 20 30 41 21 22 32 34 21 1...  Training\n",
       "4  Neutral  4 0 0 0 0 0 0 0 0 0 0 0 3 15 23 28 48 50 58 84...  Training"
      ]
     },
     "execution_count": 89,
     "metadata": {},
     "output_type": "execute_result"
    }
   ],
   "source": [
    "# dataset loading\n",
    "ds_ = pd.read_csv(\"datasets/fer20131_reduced.csv\")\n",
    "print(\"Dataset shape: \" + str(ds_.shape))\n",
    "ds_.head(5)"
   ]
  },
  {
   "cell_type": "code",
   "execution_count": 90,
   "metadata": {},
   "outputs": [
    {
     "name": "stdout",
     "output_type": "stream",
     "text": [
      "\n",
      "-> Classes: [0 2 1]\n"
     ]
    },
    {
     "data": {
      "image/png": "[encoded data removed]",
      "text/plain": [
       "<Figure size 432x288 with 1 Axes>"
      ]
     },
     "metadata": {
      "needs_background": "light"
     },
     "output_type": "display_data"
    }
   ],
   "source": [
    "# show classes\n",
    "ds_['emotion'].value_counts().plot.bar()\n",
    "\n",
    "\n",
    "# replace literal labels for numeric\n",
    "classes = {'Sad': 0, 'Happy': 1, 'Neutral': 2}\n",
    "ds_ = ds_.applymap(lambda s: classes.get(s) if s in classes else s)\n",
    "\n",
    "print (\"\\n\" + \"-> Classes: \" + str(ds_['emotion'].unique()))"
   ]
  },
  {
   "cell_type": "code",
   "execution_count": 93,
   "metadata": {},
   "outputs": [
    {
     "name": "stdout",
     "output_type": "stream",
     "text": [
      "x_train: (25538, 48, 48, 1)\n",
      "y_train: (25538, 3)\n",
      "x_test:  (3174, 48, 48, 1)\n",
      "y_test:  (3174, 3)\n"
     ]
    }
   ],
   "source": [
    "# training set\n",
    "train_ds = ds_[ds_.Usage == 'Training']\n",
    "train_ds = train_ds.reset_index(drop=True)\n",
    "x_train, y_train = get_in_out_data(train_ds)\n",
    "\n",
    "# validation set\n",
    "test_ds = ds_[ds_.Usage == 'Test']\n",
    "test_ds = test_ds.reset_index(drop=True)\n",
    "x_test, y_test = get_in_out_data(test_ds)\n",
    "\n",
    "print(\"x_train: \" + str(x_train.shape))\n",
    "print(\"y_train: \" + str(y_train.shape))\n",
    "print(\"x_test:  \" + str(x_test.shape))\n",
    "print(\"y_test:  \" + str(y_test.shape))"
   ]
  },
  {
   "cell_type": "code",
   "execution_count": 96,
   "metadata": {},
   "outputs": [
    {
     "name": "stdout",
     "output_type": "stream",
     "text": [
      "_________________________________________________________________\n",
      "Layer (type)                 Output Shape              Param #   \n",
      "=================================================================\n",
      "conv2d_5 (Conv2D)            (None, 48, 48, 128)       1280      \n",
      "_________________________________________________________________\n",
      "dropout_6 (Dropout)          (None, 48, 48, 128)       0         \n",
      "_________________________________________________________________\n",
      "max_pooling2d_4 (MaxPooling2 (None, 24, 24, 128)       0         \n",
      "_________________________________________________________________\n",
      "conv2d_6 (Conv2D)            (None, 24, 24, 256)       295168    \n",
      "_________________________________________________________________\n",
      "batch_normalization_3 (Batch (None, 24, 24, 256)       1024      \n",
      "_________________________________________________________________\n",
      "dropout_7 (Dropout)          (None, 24, 24, 256)       0         \n",
      "_________________________________________________________________\n",
      "max_pooling2d_5 (MaxPooling2 (None, 12, 12, 256)       0         \n",
      "_________________________________________________________________\n",
      "conv2d_7 (Conv2D)            (None, 12, 12, 128)       295040    \n",
      "_________________________________________________________________\n",
      "batch_normalization_4 (Batch (None, 12, 12, 128)       512       \n",
      "_________________________________________________________________\n",
      "dropout_8 (Dropout)          (None, 12, 12, 128)       0         \n",
      "_________________________________________________________________\n",
      "conv2d_8 (Conv2D)            (None, 12, 12, 128)       147584    \n",
      "_________________________________________________________________\n",
      "dropout_9 (Dropout)          (None, 12, 12, 128)       0         \n",
      "_________________________________________________________________\n",
      "max_pooling2d_6 (MaxPooling2 (None, 6, 6, 128)         0         \n",
      "_________________________________________________________________\n",
      "flatten_2 (Flatten)          (None, 4608)              0         \n",
      "_________________________________________________________________\n",
      "dense_3 (Dense)              (None, 64)                294976    \n",
      "_________________________________________________________________\n",
      "dropout_10 (Dropout)         (None, 64)                0         \n",
      "_________________________________________________________________\n",
      "dense_4 (Dense)              (None, 3)                 195       \n",
      "=================================================================\n",
      "Total params: 1,035,779\n",
      "Trainable params: 1,035,011\n",
      "Non-trainable params: 768\n",
      "_________________________________________________________________\n"
     ]
    }
   ],
   "source": [
    "# GA (Genetic algorithm topology), defined again to modfiy final softmax layer for 3 classes\n",
    "genAlgrthm_model_3 = models.Sequential()\n",
    "genAlgrthm_model_3.add(layers.Conv2D(128, (3, 3), padding='same', activation='relu', input_shape=(48, 48, 1)))\n",
    "genAlgrthm_model_3.add(layers.Dropout(0.10))\n",
    "genAlgrthm_model_3.add(layers.MaxPooling2D(pool_size=(2, 2)))\n",
    "\n",
    "genAlgrthm_model_3.add(layers.Conv2D(256, (3, 3), padding='same', activation='relu'))\n",
    "genAlgrthm_model_3.add(layers.BatchNormalization())\n",
    "genAlgrthm_model_3.add(layers.Dropout(0.10))\n",
    "genAlgrthm_model_3.add(layers.MaxPooling2D(pool_size=(2, 2)))\n",
    "\n",
    "genAlgrthm_model_3.add(layers.Conv2D(128, (3, 3), padding='same', activation='relu'))\n",
    "genAlgrthm_model_3.add(layers.BatchNormalization())\n",
    "genAlgrthm_model_3.add(layers.Dropout(0.15))\n",
    "genAlgrthm_model_3.add(layers.Conv2D(128, (3, 3), padding='same', activation='sigmoid'))\n",
    "genAlgrthm_model_3.add(layers.Dropout(0.15))\n",
    "genAlgrthm_model_3.add(layers.MaxPooling2D(pool_size=(2, 2)))\n",
    "\n",
    "\n",
    "genAlgrthm_model_3.add(layers.Flatten())  \n",
    "genAlgrthm_model_3.add(layers.Dense(64, activation='relu'))\n",
    "genAlgrthm_model_3.add(layers.Dropout(0.05))\n",
    "genAlgrthm_model_3.add(layers.Dense(3, activation='softmax'))\n",
    "\n",
    "genAlgrthm_model_3.compile(loss='categorical_crossentropy', optimizer='adam', metrics=['accuracy'])\n",
    "\n",
    "genAlgrthm_model_3.summary()"
   ]
  },
  {
   "cell_type": "code",
   "execution_count": null,
   "metadata": {
    "scrolled": true
   },
   "outputs": [
    {
     "name": "stderr",
     "output_type": "stream",
     "text": [
      "/home/parisfe/miniconda3/envs/py3/lib/python3.7/site-packages/ipykernel_launcher.py:10: UserWarning: The `nb_epoch` argument in `fit` has been renamed `epochs`.\n",
      "  # Remove the CWD from sys.path while we load stuff.\n",
      "W0823 16:55:57.534647 140443365185344 deprecation.py:323] From /home/parisfe/miniconda3/envs/py3/lib/python3.7/site-packages/tensorflow/python/ops/math_grad.py:1250: add_dispatch_support.<locals>.wrapper (from tensorflow.python.ops.array_ops) is deprecated and will be removed in a future version.\n",
      "Instructions for updating:\n",
      "Use tf.where in 2.0, which has the same broadcast rule as np.where\n"
     ]
    },
    {
     "name": "stdout",
     "output_type": "stream",
     "text": [
      "Train on 25538 samples, validate on 3174 samples\n",
      "Epoch 1/32\n",
      "25538/25538 [==============================] - 627s 25ms/step - loss: 1.0665 - acc: 0.5113 - val_loss: 1.0097 - val_acc: 0.5268\n",
      "Epoch 2/32\n",
      "25538/25538 [==============================] - 592s 23ms/step - loss: 0.9422 - acc: 0.5489 - val_loss: 0.9251 - val_acc: 0.5495\n",
      "Epoch 3/32\n",
      "25538/25538 [==============================] - 634s 25ms/step - loss: 0.8626 - acc: 0.6065 - val_loss: 0.9584 - val_acc: 0.5586\n",
      "Epoch 4/32\n",
      "25538/25538 [==============================] - 606s 24ms/step - loss: 0.7604 - acc: 0.6556 - val_loss: 0.8712 - val_acc: 0.5907\n",
      "Epoch 5/32\n",
      "25538/25538 [==============================] - 593s 23ms/step - loss: 0.6867 - acc: 0.6939 - val_loss: 0.8258 - val_acc: 0.6452\n",
      "Epoch 6/32\n",
      "25538/25538 [==============================] - 618s 24ms/step - loss: 0.6499 - acc: 0.7174 - val_loss: 0.7840 - val_acc: 0.6569\n",
      "Epoch 7/32\n",
      "  640/25538 [..............................] - ETA: 12:50 - loss: 0.6271 - acc: 0.7281"
     ]
    }
   ],
   "source": [
    "# generate model using new dataset with reduced classes\n",
    "nb_epoch = 32\n",
    "batch_size = 128\n",
    "\n",
    "ga_model_3 = genAlgrthm_model_3.fit(x_train,\n",
    "                                y_train, \n",
    "                                callbacks=callbacks, \n",
    "                                nb_epoch=nb_epoch, \n",
    "                                batch_size=batch_size,\n",
    "                                validation_data=(x_test, y_test), shuffle=True, verbose=1)\n",
    "\n",
    "# save model\n",
    "genAlgrthm_model_3.save('ga_model_v03.h5')"
   ]
  },
  {
   "cell_type": "code",
   "execution_count": null,
   "metadata": {},
   "outputs": [],
   "source": [
    "plotModelFitResults(ga_model_3)"
   ]
  },
  {
   "cell_type": "code",
   "execution_count": null,
   "metadata": {},
   "outputs": [],
   "source": [
    "# evaluate model\n",
    "evaluateModel(genAlgrthm_model)"
   ]
  },
  {
   "cell_type": "markdown",
   "metadata": {},
   "source": [
    "----------------------------------------------------------------------------"
   ]
  },
  {
   "cell_type": "markdown",
   "metadata": {},
   "source": [
    "### Other model (adaptive network)"
   ]
  },
  {
   "cell_type": "code",
   "execution_count": 10,
   "metadata": {},
   "outputs": [
    {
     "data": {
      "text/plain": [
       "<matplotlib.image.AxesImage at 0x7fbb3efb9940>"
      ]
     },
     "execution_count": 10,
     "metadata": {},
     "output_type": "execute_result"
    },
    {
     "data": {
      "image/png": "[encoded data removed]",
      "text/plain": [
       "<Figure size 432x288 with 1 Axes>"
      ]
     },
     "metadata": {
      "needs_background": "light"
     },
     "output_type": "display_data"
    }
   ],
   "source": [
    "image = mpimg.imread('Figures/an.png')\n",
    "plt.imshow(image)"
   ]
  },
  {
   "cell_type": "code",
   "execution_count": 45,
   "metadata": {},
   "outputs": [
    {
     "name": "stdout",
     "output_type": "stream",
     "text": [
      "_________________________________________________________________\n",
      "Layer (type)                 Output Shape              Param #   \n",
      "=================================================================\n",
      "conv2d_35 (Conv2D)           (None, 48, 48, 32)        320       \n",
      "_________________________________________________________________\n",
      "conv2d_36 (Conv2D)           (None, 48, 48, 32)        9248      \n",
      "_________________________________________________________________\n",
      "max_pooling2d_17 (MaxPooling (None, 24, 24, 32)        0         \n",
      "_________________________________________________________________\n",
      "dropout_16 (Dropout)         (None, 24, 24, 32)        0         \n",
      "_________________________________________________________________\n",
      "conv2d_37 (Conv2D)           (None, 24, 24, 64)        18496     \n",
      "_________________________________________________________________\n",
      "conv2d_38 (Conv2D)           (None, 24, 24, 64)        36928     \n",
      "_________________________________________________________________\n",
      "conv2d_39 (Conv2D)           (None, 24, 24, 64)        36928     \n",
      "_________________________________________________________________\n",
      "max_pooling2d_18 (MaxPooling (None, 12, 12, 64)        0         \n",
      "_________________________________________________________________\n",
      "dropout_17 (Dropout)         (None, 12, 12, 64)        0         \n",
      "_________________________________________________________________\n",
      "conv2d_40 (Conv2D)           (None, 12, 12, 128)       73856     \n",
      "_________________________________________________________________\n",
      "conv2d_41 (Conv2D)           (None, 12, 12, 128)       147584    \n",
      "_________________________________________________________________\n",
      "conv2d_42 (Conv2D)           (None, 12, 12, 128)       147584    \n",
      "_________________________________________________________________\n",
      "max_pooling2d_19 (MaxPooling (None, 6, 6, 128)         0         \n",
      "_________________________________________________________________\n",
      "dropout_18 (Dropout)         (None, 6, 6, 128)         0         \n",
      "_________________________________________________________________\n",
      "flatten_4 (Flatten)          (None, 4608)              0         \n",
      "_________________________________________________________________\n",
      "dense_9 (Dense)              (None, 128)               589952    \n",
      "_________________________________________________________________\n",
      "dropout_19 (Dropout)         (None, 128)               0         \n",
      "_________________________________________________________________\n",
      "dense_10 (Dense)             (None, 128)               16512     \n",
      "_________________________________________________________________\n",
      "dropout_20 (Dropout)         (None, 128)               0         \n",
      "_________________________________________________________________\n",
      "dense_11 (Dense)             (None, 6)                 774       \n",
      "=================================================================\n",
      "Total params: 1,078,182\n",
      "Trainable params: 1,078,182\n",
      "Non-trainable params: 0\n",
      "_________________________________________________________________\n"
     ]
    }
   ],
   "source": [
    "# Adaptive Network model\n",
    "adaptNet_model = models.Sequential()\n",
    "adaptNet_model.add(layers.Conv2D(32, (3, 3), padding='same', activation='relu', input_shape=(48, 48, 1)))\n",
    "adaptNet_model.add(layers.Conv2D(32, (3, 3), padding='same', activation='relu'))\n",
    "adaptNet_model.add(layers.MaxPooling2D(pool_size=(2, 2)))\n",
    "adaptNet_model.add(layers.Dropout(0.05))\n",
    "\n",
    "adaptNet_model.add(layers.Conv2D(64, (3, 3), padding='same', activation='relu'))\n",
    "adaptNet_model.add(layers.Conv2D(64, (3, 3), padding='same', activation='relu'))\n",
    "adaptNet_model.add(layers.Conv2D(64, (3, 3), padding='same', activation='relu'))\n",
    "adaptNet_model.add(layers.MaxPooling2D(pool_size=(2, 2)))\n",
    "adaptNet_model.add(layers.Dropout(0.12))\n",
    "\n",
    "adaptNet_model.add(layers.Conv2D(128, (3, 3), padding='same', activation='relu'))\n",
    "adaptNet_model.add(layers.Conv2D(128, (3, 3), padding='same', activation='relu'))\n",
    "adaptNet_model.add(layers.Conv2D(128, (3, 3), padding='same', activation='relu'))\n",
    "adaptNet_model.add(layers.MaxPooling2D(pool_size=(2, 2)))\n",
    "adaptNet_model.add(layers.Dropout(0.12))\n",
    "\n",
    "adaptNet_model.add(layers.Flatten())  \n",
    "adaptNet_model.add(layers.Dense(128, activation='relu'))\n",
    "adaptNet_model.add(layers.Dropout(0.25))\n",
    "adaptNet_model.add(layers.Dense(128, activation='relu'))\n",
    "adaptNet_model.add(layers.Dropout(0.25))\n",
    "adaptNet_model.add(layers.Dense(6, activation='softmax'))\n",
    "\n",
    "adaptNet_model.compile(loss='categorical_crossentropy', optimizer='adam', metrics=['accuracy'])\n",
    "\n",
    "adaptNet_model.summary()\n"
   ]
  },
  {
   "cell_type": "markdown",
   "metadata": {},
   "source": [
    "Fit model"
   ]
  },
  {
   "cell_type": "code",
   "execution_count": null,
   "metadata": {},
   "outputs": [],
   "source": [
    "nb_epoch = 32\n",
    "batch_size = 128\n",
    "\n",
    "adptNet_model = adaptNet_model.fit(x_train,\n",
    "                                y_train, \n",
    "                                callbacks=callbacks, \n",
    "                                nb_epoch=nb_epoch, \n",
    "                                batch_size=batch_size,\n",
    "                                validation_data=(x_test, y_test), shuffle=True, verbose=1)\n",
    "\n",
    "# save model\n",
    "adaptNet_model.save('adaptNet_model_v02.h5')"
   ]
  },
  {
   "cell_type": "code",
   "execution_count": null,
   "metadata": {},
   "outputs": [],
   "source": [
    "plotModelFitResults(adptNet_model)"
   ]
  },
  {
   "cell_type": "code",
   "execution_count": 31,
   "metadata": {},
   "outputs": [
    {
     "name": "stdout",
     "output_type": "stream",
     "text": [
      "model acc: 45.56%\n"
     ]
    }
   ],
   "source": [
    "# evaluate model\n",
    "evaluateModel(adaptNet_model)"
   ]
  },
  {
   "cell_type": "code",
   "execution_count": 26,
   "metadata": {},
   "outputs": [],
   "source": [
    "def plotModelFitResults(model):\n",
    "    acc = model.history['acc']\n",
    "    val_acc = model.history['val_acc']\n",
    "    loss = model.history['loss']\n",
    "    val_loss = model.history['val_loss']\n",
    "\n",
    "    epochs = range(len(acc))\n",
    "\n",
    "    plt.plot(epochs, acc, 'bo', label='Training acc')\n",
    "    plt.plot(epochs, val_acc, 'b', label='Validation acc')\n",
    "    plt.title('Training and validation accuracy')\n",
    "    plt.legend()\n",
    "\n",
    "    plt.figure()\n",
    "\n",
    "    plt.plot(epochs, loss, 'bo', label='Training loss')\n",
    "    plt.plot(epochs, val_loss, 'b', label='Validation loss')\n",
    "    plt.title('Training and validation loss')\n",
    "    plt.legend()\n",
    "\n",
    "    plt.show()"
   ]
  },
  {
   "cell_type": "code",
   "execution_count": 24,
   "metadata": {},
   "outputs": [],
   "source": [
    "def evaluateModel(model):\n",
    "    # evaluate model\n",
    "    score = model.evaluate(x_test, y_test, verbose=0)\n",
    "    print (\"model %s: %.2f%%\" % (model.metrics_names[1], score[1]*100))"
   ]
  }
 ],
 "metadata": {
  "kernelspec": {
   "display_name": "Python 3",
   "language": "python",
   "name": "python3"
  },
  "language_info": {
   "codemirror_mode": {
    "name": "ipython",
    "version": 3
   },
   "file_extension": ".py",
   "mimetype": "text/x-python",
   "name": "python",
   "nbconvert_exporter": "python",
   "pygments_lexer": "ipython3",
   "version": "3.7.3"
  }
 },
 "nbformat": 4,
 "nbformat_minor": 2
}
