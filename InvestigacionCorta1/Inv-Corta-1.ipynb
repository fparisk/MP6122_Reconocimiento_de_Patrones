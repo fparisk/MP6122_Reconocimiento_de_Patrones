{
 "cells": [
  {
   "cell_type": "markdown",
   "metadata": {},
   "source": [
    "Reconocimiento de Patrones MP-6122\n",
    "Fernando Paris Kikut\n",
    "Investigacion Contra 1"
   ]
  },
  {
   "cell_type": "markdown",
   "metadata": {},
   "source": [
    "Pandas Overview"
   ]
  },
  {
   "cell_type": "markdown",
   "metadata": {},
   "source": [
    "Pandas provides extensive means for data analysis."
   ]
  },
  {
   "cell_type": "code",
   "execution_count": 2,
   "metadata": {},
   "outputs": [],
   "source": [
    "# In order to use Pandas library, first ste is to import it as well as all required libraries\n",
    "\n",
    "import pandas as pandas\n",
    "import numpy as numpy                # multi-dimensional arrays and matrices support\n",
    "import matplotlib.pyplot as plt      # plot support"
   ]
  },
  {
   "cell_type": "markdown",
   "metadata": {},
   "source": [
    "There are two maun data structures use in Pandas to encapsullate the data to analyze:\n",
    "DataFrame: two-dimensional spreadsheet alike data structure.\n",
    "Series: one-dimensional array"
   ]
  },
  {
   "cell_type": "markdown",
   "metadata": {},
   "source": [
    "Pandas supports several data input formats such as:\n",
    "Comma separate values (.csv)\n",
    "Javascript Object Notation (.json)\n",
    "Microsoft Excel Spreadsheets (.xlsx)\n",
    "Structured Query Language (.sql)"
   ]
  },
  {
   "cell_type": "markdown",
   "metadata": {},
   "source": [
    "In order to start playing around with the data to be analyzed, the dataset should be imported/loaded"
   ]
  },
  {
   "cell_type": "code",
   "execution_count": 10,
   "metadata": {},
   "outputs": [],
   "source": [
    "# Load dataset\n",
    "dataSet = pandas.read_csv('distance-travelled-by-ethnicity-over-time.csv')"
   ]
  },
  {
   "cell_type": "markdown",
   "metadata": {},
   "source": [
    "Once the dataset is loaded, one can get general information, display the data, filter the data, select, sort and perform mathematical and statistics operations among many other features and capabilities."
   ]
  },
  {
   "cell_type": "markdown",
   "metadata": {},
   "source": [
    "# Dataset General Information"
   ]
  },
  {
   "cell_type": "code",
   "execution_count": 11,
   "metadata": {},
   "outputs": [
    {
     "name": "stdout",
     "output_type": "stream",
     "text": [
      "<class 'pandas.core.frame.DataFrame'>\n",
      "RangeIndex: 72 entries, 0 to 71\n",
      "Data columns (total 4 columns):\n",
      "Ethnicity    72 non-null object\n",
      "Time         72 non-null object\n",
      "Miles        72 non-null object\n",
      "Trips        72 non-null object\n",
      "dtypes: object(4)\n",
      "memory usage: 2.3+ KB\n",
      "None\n"
     ]
    }
   ],
   "source": [
    "# Print general Information\n",
    "print(dataSet.info())"
   ]
  },
  {
   "cell_type": "code",
   "execution_count": 12,
   "metadata": {},
   "outputs": [
    {
     "name": "stdout",
     "output_type": "stream",
     "text": [
      "(72, 4)\n"
     ]
    }
   ],
   "source": [
    "# Print dataframe size [rows columns]\n",
    "print(dataSet.shape)"
   ]
  },
  {
   "cell_type": "markdown",
   "metadata": {},
   "source": [
    "# Dataset analysis"
   ]
  },
  {
   "cell_type": "code",
   "execution_count": 13,
   "metadata": {},
   "outputs": [
    {
     "name": "stdout",
     "output_type": "stream",
     "text": [
      "Index(['Ethnicity', 'Time', 'Miles', 'Trips'], dtype='object')\n"
     ]
    }
   ],
   "source": [
    "# Display Column info\n",
    "print(dataSet.columns)"
   ]
  },
  {
   "cell_type": "code",
   "execution_count": 14,
   "metadata": {},
   "outputs": [
    {
     "data": {
      "text/html": [
       "<div>\n",
       "<style scoped>\n",
       "    .dataframe tbody tr th:only-of-type {\n",
       "        vertical-align: middle;\n",
       "    }\n",
       "\n",
       "    .dataframe tbody tr th {\n",
       "        vertical-align: top;\n",
       "    }\n",
       "\n",
       "    .dataframe thead th {\n",
       "        text-align: right;\n",
       "    }\n",
       "</style>\n",
       "<table border=\"1\" class=\"dataframe\">\n",
       "  <thead>\n",
       "    <tr style=\"text-align: right;\">\n",
       "      <th></th>\n",
       "      <th>Ethnicity</th>\n",
       "      <th>Time</th>\n",
       "      <th>Miles</th>\n",
       "      <th>Trips</th>\n",
       "    </tr>\n",
       "  </thead>\n",
       "  <tbody>\n",
       "    <tr>\n",
       "      <th>69</th>\n",
       "      <td>Other</td>\n",
       "      <td>2011/15</td>\n",
       "      <td>4,048</td>\n",
       "      <td>754</td>\n",
       "    </tr>\n",
       "    <tr>\n",
       "      <th>70</th>\n",
       "      <td>Other</td>\n",
       "      <td>2012/16</td>\n",
       "      <td>4,107</td>\n",
       "      <td>783</td>\n",
       "    </tr>\n",
       "    <tr>\n",
       "      <th>35</th>\n",
       "      <td>Black</td>\n",
       "      <td>2013/17</td>\n",
       "      <td>4,190</td>\n",
       "      <td>778</td>\n",
       "    </tr>\n",
       "    <tr>\n",
       "      <th>71</th>\n",
       "      <td>Other</td>\n",
       "      <td>2013/17</td>\n",
       "      <td>4,262</td>\n",
       "      <td>796</td>\n",
       "    </tr>\n",
       "    <tr>\n",
       "      <th>34</th>\n",
       "      <td>Black</td>\n",
       "      <td>2012/16</td>\n",
       "      <td>4,280</td>\n",
       "      <td>792</td>\n",
       "    </tr>\n",
       "    <tr>\n",
       "      <th>33</th>\n",
       "      <td>Black</td>\n",
       "      <td>2011/15</td>\n",
       "      <td>4,360</td>\n",
       "      <td>799</td>\n",
       "    </tr>\n",
       "    <tr>\n",
       "      <th>63</th>\n",
       "      <td>Other</td>\n",
       "      <td>2005/09</td>\n",
       "      <td>4,386</td>\n",
       "      <td>863</td>\n",
       "    </tr>\n",
       "    <tr>\n",
       "      <th>31</th>\n",
       "      <td>Black</td>\n",
       "      <td>2009/13</td>\n",
       "      <td>4,394</td>\n",
       "      <td>813</td>\n",
       "    </tr>\n",
       "    <tr>\n",
       "      <th>66</th>\n",
       "      <td>Other</td>\n",
       "      <td>2008/12</td>\n",
       "      <td>4,429</td>\n",
       "      <td>798</td>\n",
       "    </tr>\n",
       "    <tr>\n",
       "      <th>64</th>\n",
       "      <td>Other</td>\n",
       "      <td>2006/10</td>\n",
       "      <td>4,438</td>\n",
       "      <td>865</td>\n",
       "    </tr>\n",
       "  </tbody>\n",
       "</table>\n",
       "</div>"
      ],
      "text/plain": [
       "   Ethnicity     Time  Miles Trips\n",
       "69     Other  2011/15  4,048   754\n",
       "70     Other  2012/16  4,107   783\n",
       "35     Black  2013/17  4,190   778\n",
       "71     Other  2013/17  4,262   796\n",
       "34     Black  2012/16  4,280   792\n",
       "33     Black  2011/15  4,360   799\n",
       "63     Other  2005/09  4,386   863\n",
       "31     Black  2009/13  4,394   813\n",
       "66     Other  2008/12  4,429   798\n",
       "64     Other  2006/10  4,438   865"
      ]
     },
     "execution_count": 14,
     "metadata": {},
     "output_type": "execute_result"
    }
   ],
   "source": [
    "# Sort Data\n",
    "dataSet.sort_values(by='Miles', ascending=True).head(10)"
   ]
  }
 ],
 "metadata": {
  "kernelspec": {
   "display_name": "Python 3",
   "language": "python",
   "name": "python3"
  },
  "language_info": {
   "codemirror_mode": {
    "name": "ipython",
    "version": 3
   },
   "file_extension": ".py",
   "mimetype": "text/x-python",
   "name": "python",
   "nbconvert_exporter": "python",
   "pygments_lexer": "ipython3",
   "version": "3.7.3"
  }
 },
 "nbformat": 4,
 "nbformat_minor": 2
}
